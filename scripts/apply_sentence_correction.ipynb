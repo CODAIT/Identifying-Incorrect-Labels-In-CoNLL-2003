{
 "cells": [
  {
   "cell_type": "code",
   "execution_count": 1,
   "metadata": {},
   "outputs": [],
   "source": [
    "import os\n",
    "import glob\n",
    "import json"
   ]
  },
  {
   "cell_type": "code",
   "execution_count": 4,
   "metadata": {},
   "outputs": [],
   "source": [
    "files = {\n",
    "    'team_submissions_dev' : glob.glob(\"/Users/mkarthik/code/public/kmh4321/text-extensions-for-pandas/resources/conll_03/ner/results/*/*.testa\"),\n",
    "    'team_submissions_test' : glob.glob(\"/Users/mkarthik/code/public/kmh4321/text-extensions-for-pandas/resources/conll_03/ner/results/*/*.testb\"),\n",
    "    'dev'       : \"/Users/mkarthik/code/public/kmh4321/text-extensions-for-pandas/notebooks/outputs/eng.testa\",\n",
    "    'test'      : \"/Users/mkarthik/code/public/kmh4321/text-extensions-for-pandas/notebooks/outputs/eng.testb\",\n",
    "    'train'     : \"/Users/mkarthik/code/public/kmh4321/text-extensions-for-pandas/notebooks/outputs/eng.train\"\n",
    "}"
   ]
  },
  {
   "cell_type": "code",
   "execution_count": 8,
   "metadata": {},
   "outputs": [],
   "source": [
    "with open(\"../data/sentence_corrections.json\") as f:\n",
    "     lines_to_delete = json.load(f)"
   ]
  },
  {
   "cell_type": "code",
   "execution_count": 15,
   "metadata": {},
   "outputs": [],
   "source": [
    "def delete_lines(file, lines):\n",
    "    \"\"\"\n",
    "    inputs:\n",
    "        - file -> (Str) path to the file\n",
    "        - lines -> list of line numbers to be deleted\n",
    "    returns:\n",
    "        - None\n",
    "        writes a file in the same directory with a `_corrected` tag.\n",
    "    Raises:\n",
    "        - assertion error if a non-empty line was being deleted\n",
    "    \"\"\"\n",
    "    source_file = open(file, \"r\")\n",
    "    file_lines = source_file.readlines()\n",
    "    source_file.close()\n",
    "    for l in lines:\n",
    "        assert file_lines[l] == \"\\n\"\n",
    "        del file_lines[l]\n",
    "    new_file = open(str(file+\"_corrected\"), \"w+\")\n",
    "    for l in file_lines:\n",
    "        new_file.write(l)\n",
    "    new_file.close()"
   ]
  },
  {
   "cell_type": "code",
   "execution_count": 11,
   "metadata": {},
   "outputs": [],
   "source": [
    "# Fix the Dev Corpus\n",
    "delete_lines(files[\"dev\"], lines_to_delete[\"dev\"])"
   ]
  },
  {
   "cell_type": "code",
   "execution_count": 12,
   "metadata": {},
   "outputs": [],
   "source": [
    "# Fix the Test Corpus\n",
    "delete_lines(files[\"test\"], lines_to_delete[\"test\"])"
   ]
  },
  {
   "cell_type": "code",
   "execution_count": 13,
   "metadata": {},
   "outputs": [],
   "source": [
    "# Fix the team submissions - dev\n",
    "for submission in files[\"team_submissions_dev\"]:\n",
    "    delete_lines(submission, lines_to_delete[\"dev\"])"
   ]
  },
  {
   "cell_type": "code",
   "execution_count": 14,
   "metadata": {},
   "outputs": [],
   "source": [
    "# Fix the team submissions - test\n",
    "for submission in files[\"team_submissions_test\"]:\n",
    "    delete_lines(submission, lines_to_delete[\"test\"])"
   ]
  },
  {
   "cell_type": "code",
   "execution_count": null,
   "metadata": {},
   "outputs": [],
   "source": []
  }
 ],
 "metadata": {
  "kernelspec": {
   "display_name": "Python 3",
   "language": "python",
   "name": "python3"
  },
  "language_info": {
   "codemirror_mode": {
    "name": "ipython",
    "version": 3
   },
   "file_extension": ".py",
   "mimetype": "text/x-python",
   "name": "python",
   "nbconvert_exporter": "python",
   "pygments_lexer": "ipython3",
   "version": "3.7.1"
  }
 },
 "nbformat": 4,
 "nbformat_minor": 4
}
