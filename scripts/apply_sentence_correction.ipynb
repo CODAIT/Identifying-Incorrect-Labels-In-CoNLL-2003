{
 "cells": [
  {
   "cell_type": "code",
   "execution_count": 2,
   "metadata": {},
   "outputs": [],
   "source": [
    "import glob\n",
    "import json"
   ]
  },
  {
   "cell_type": "code",
   "execution_count": 5,
   "metadata": {},
   "outputs": [],
   "source": [
    "files = {\n",
    "    'team_submissions_dev' : glob.glob(\"../team_outputs/results/*/*.testa\"),\n",
    "    'team_submissions_test' : glob.glob(\"../team_outputs/results/*/*.testb\"),\n",
    "    'dev'       : \"../original_corpus/eng.testa\",\n",
    "    'test'      : \"../original_corpus/eng.testb\",\n",
    "    'train'     : \"../original_corpus/eng.train\"\n",
    "}"
   ]
  },
  {
   "cell_type": "code",
   "execution_count": 7,
   "metadata": {},
   "outputs": [],
   "source": [
    "with open(\"../corrected_labels/sentence_corrections.json\") as f:\n",
    "     lines_to_delete = json.load(f)"
   ]
  },
  {
   "cell_type": "code",
   "execution_count": 8,
   "metadata": {},
   "outputs": [],
   "source": [
    "def delete_lines(file, lines):\n",
    "    \"\"\"\n",
    "    inputs:\n",
    "        - file -> (Str) path to the file\n",
    "        - lines -> list of line numbers to be deleted\n",
    "    returns:\n",
    "        - None\n",
    "        writes a file in the same directory with a `_corrected` tag.\n",
    "    Raises:\n",
    "        - assertion error if a non-empty line was being deleted\n",
    "    \"\"\"\n",
    "    source_file = open(file, \"r\")\n",
    "    file_lines = source_file.readlines()\n",
    "    source_file.close()\n",
    "    for l in lines:\n",
    "        assert file_lines[l] == \"\\n\"\n",
    "        del file_lines[l]\n",
    "    new_file = open(str(file+\"_corrected\"), \"w+\")\n",
    "    for l in file_lines:\n",
    "        new_file.write(l)\n",
    "    new_file.close()"
   ]
  },
  {
   "cell_type": "code",
   "execution_count": 9,
   "metadata": {},
   "outputs": [],
   "source": [
    "# Fix the Dev Corpus\n",
    "delete_lines(files[\"dev\"], lines_to_delete[\"dev\"])"
   ]
  },
  {
   "cell_type": "code",
   "execution_count": 10,
   "metadata": {},
   "outputs": [],
   "source": [
    "# Fix the Test Corpus\n",
    "delete_lines(files[\"test\"], lines_to_delete[\"test\"])"
   ]
  },
  {
   "cell_type": "code",
   "execution_count": 11,
   "metadata": {},
   "outputs": [],
   "source": [
    "# Fix the team submissions - dev\n",
    "for submission in files[\"team_submissions_dev\"]:\n",
    "    delete_lines(submission, lines_to_delete[\"dev\"])"
   ]
  },
  {
   "cell_type": "code",
   "execution_count": 12,
   "metadata": {},
   "outputs": [],
   "source": [
    "# Fix the team submissions - test\n",
    "for submission in files[\"team_submissions_test\"]:\n",
    "    delete_lines(submission, lines_to_delete[\"test\"])"
   ]
  },
  {
   "cell_type": "code",
   "execution_count": null,
   "metadata": {},
   "outputs": [],
   "source": []
  }
 ],
 "metadata": {
  "kernelspec": {
   "display_name": "Python 3",
   "language": "python",
   "name": "python3"
  },
  "language_info": {
   "codemirror_mode": {
    "name": "ipython",
    "version": 3
   },
   "file_extension": ".py",
   "mimetype": "text/x-python",
   "name": "python",
   "nbconvert_exporter": "python",
   "pygments_lexer": "ipython3",
   "version": "3.8.6"
  }
 },
 "nbformat": 4,
 "nbformat_minor": 4
}
