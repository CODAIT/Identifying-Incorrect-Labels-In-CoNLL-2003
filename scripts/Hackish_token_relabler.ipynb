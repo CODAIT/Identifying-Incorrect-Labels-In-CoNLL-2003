{
 "cells": [
  {
   "cell_type": "code",
   "execution_count": 255,
   "metadata": {},
   "outputs": [],
   "source": [
    "import fileinput\n",
    "import sys\n",
    "import glob "
   ]
  },
  {
   "cell_type": "markdown",
   "metadata": {},
   "source": [
    "line() or delete()\n",
    "\n",
    "copy()  // copy original\n",
    "\n",
    "copy()  // copy original\n",
    "\n",
    "add()   // add a new line \n",
    "\n",
    "change() // overwrite line  "
   ]
  },
  {
   "cell_type": "code",
   "execution_count": 256,
   "metadata": {},
   "outputs": [
    {
     "data": {
      "text/plain": [
       "'line, num_added'"
      ]
     },
     "execution_count": 256,
     "metadata": {},
     "output_type": "execute_result"
    }
   ],
   "source": [
    "# with is like your try .. finally block in this case\n",
    "with open('data/corrected_results/conll03/eng.testb_corrected', 'r') as read_file:\n",
    "    data = read_file.readlines()\n",
    "\n",
    "\n",
    "filenames = glob.glob('corrected_results/*/eng.testb_corrected') \n",
    "filenames = filenames[1:]\n",
    "\n",
    "test_name = filenames[3]\n",
    "\n",
    "log = []\n",
    "log.append(\"line, num_added\")\n",
    "\n",
    "files = {}\n",
    "for filename in filenames: \n",
    "    file = None\n",
    "    with open(filename, 'r') as file:\n",
    "        files[filename] = file.readlines()\n",
    "\n",
    "log_str"
   ]
  },
  {
   "cell_type": "code",
   "execution_count": 257,
   "metadata": {},
   "outputs": [],
   "source": [
    " \n",
    "def print_with_numbering(file, s, e):\n",
    "        for i in range(s,e):\n",
    "            print(i+1, file[i])\n",
    "        \n",
    "def show_lines(line, line_end = None, showTeams = False):\n",
    "    line_end = line +2 if (line_end== None) else line_end\n",
    "    print_with_numbering(data,line-1,line_end+1 )\n",
    "    if ~showTeams: return\n",
    "    for file in filenames:\n",
    "        print_with_numbering(files[file], line, line_end+1)\n",
    "\n",
    "def get_corpus_line(line):\n",
    "    return data[line-1]\n",
    "\n",
    "def get_output_line(model_name,line):\n",
    "    return files[model_name][line-1]\n",
    "def set_output_line(model_name,line, value):\n",
    "     files[model_name][line-1] = value \n",
    "\n",
    "\n",
    "def give_tag(line): \n",
    "    Tags = [\"MISC\", \"PER\", \"LOC\", \"ORG\"]\n",
    "    for tag in Tags: \n",
    "        if tag in line: \n",
    "            return tag \n",
    "    if \"O\" in line: return \"O\"\n",
    "    print(\"ERROR finding tag type\")\n",
    "    return \"O\"\n",
    "\n",
    "def tag_to_write(line):\n",
    "    line_type = give_tag(line)\n",
    "    if line_type==\"O\": return \"O\\n\"\n",
    "    return \"I-\"+line_type+\"\\n\"\n",
    "\n",
    "def split_line(line,num_lines):\n",
    "    print(f\"editing line {line}. Adding {num_lines} lines to each model's outputs\")\n",
    "    print(f\"model's output before:\\n{get_output_line(test_name, line)}\")\n",
    "    for filename in filenames: \n",
    "        line_val = get_output_line(filename,line)\n",
    "        fill_line = tag_to_write(line_val)\n",
    "        for i in range(num_lines):\n",
    "            line_val = line_val + fill_line\n",
    "        set_output_line(filename,line,line_val)\n",
    "    log.append(f\"{line},{num_lines}\\n\")\n",
    "    print(f\"model's output after:\\n{get_output_line(test_name, line)}\")\n",
    "\n",
    "def split_line_preview(line,num_lines):\n",
    "    print(f\"editing line {line}. Adding {num_lines} lines to each model's outputs\")\n",
    "    print(f\"model's output before:\\n{get_output_line(test_name, line)}\")\n",
    "    line_val = get_output_line(test_name,line)\n",
    "    fill_line = tag_to_write(line_val)\n",
    "    for i in range(num_lines):\n",
    "        line_val = line_val + fill_line\n",
    "    print(f\"model's output after:\\n{line_val}\")\n",
    "    "
   ]
  },
  {
   "cell_type": "code",
   "execution_count": 365,
   "metadata": {},
   "outputs": [
    {
     "name": "stdout",
     "output_type": "stream",
     "text": [
      "46967 Saturday'sWorld NNP B-NP I-MISC\n",
      "\n",
      "46968 Cup NNP I-NP I-MISC\n",
      "\n",
      "46969 group NN I-NP O\n",
      "\n",
      "46970 nine CD I-NP O\n",
      "\n"
     ]
    }
   ],
   "source": [
    "line = 46967\n",
    "show_lines(line)\n"
   ]
  },
  {
   "cell_type": "code",
   "execution_count": 366,
   "metadata": {},
   "outputs": [
    {
     "name": "stdout",
     "output_type": "stream",
     "text": [
      "editing line 46967. Adding 2 lines to each model's outputs\n",
      "model's output before:\n",
      "O\n",
      "\n",
      "model's output after:\n",
      "O\n",
      "O\n",
      "O\n",
      "\n"
     ]
    }
   ],
   "source": [
    "lines_to_add = 2\n",
    "split_line_preview(line,lines_to_add)"
   ]
  },
  {
   "cell_type": "code",
   "execution_count": 367,
   "metadata": {},
   "outputs": [
    {
     "name": "stdout",
     "output_type": "stream",
     "text": [
      "editing line 46967. Adding 2 lines to each model's outputs\n",
      "model's output before:\n",
      "O\n",
      "\n",
      "model's output after:\n",
      "O\n",
      "O\n",
      "O\n",
      "\n"
     ]
    }
   ],
   "source": [
    "split_line(line,lines_to_add)"
   ]
  },
  {
   "cell_type": "code",
   "execution_count": null,
   "metadata": {},
   "outputs": [],
   "source": []
  },
  {
   "cell_type": "code",
   "execution_count": 368,
   "metadata": {},
   "outputs": [
    {
     "name": "stdout",
     "output_type": "stream",
     "text": [
      "written\n",
      "\n",
      "\n",
      "Log:\n",
      "line, num_added\n",
      "1132,2\n",
      "\n",
      "41157,2\n",
      "\n",
      "6540,2\n",
      "\n",
      "6635,2\n",
      "\n",
      "6845,2\n",
      "\n",
      "8633,1\n",
      "\n",
      "12056,2\n",
      "\n",
      "12989,2\n",
      "\n",
      "14455,2\n",
      "\n",
      "16307,2\n",
      "\n",
      "26708,2\n",
      "\n",
      "26716,2\n",
      "\n",
      "28706,2\n",
      "\n",
      "38676,2\n",
      "\n",
      "39967,2\n",
      "\n",
      "40607,2\n",
      "\n",
      "41401,2\n",
      "\n",
      "41583,2\n",
      "\n",
      "41838,2\n",
      "\n",
      "42372,2\n",
      "\n",
      "46967,2\n",
      "\n"
     ]
    }
   ],
   "source": [
    "for file_n in filenames: \n",
    "    with open('temp/'+file_n,'w') as write_file:\n",
    "        write_file.writelines(files[file_n])\n",
    "\n",
    "with open('temp/log.csv', 'w') as write_file:\n",
    "    write_file.writelines(log)\n",
    "print(\"written\")\n",
    "\n",
    "print(\"\\n\\nLog:\")\n",
    "for string in log:\n",
    "    print(string)"
   ]
  },
  {
   "cell_type": "code",
   "execution_count": null,
   "metadata": {},
   "outputs": [],
   "source": []
  }
 ],
 "metadata": {
  "kernelspec": {
   "display_name": "Python 3",
   "language": "python",
   "name": "python3"
  },
  "language_info": {
   "codemirror_mode": {
    "name": "ipython",
    "version": 3
   },
   "file_extension": ".py",
   "mimetype": "text/x-python",
   "name": "python",
   "nbconvert_exporter": "python",
   "pygments_lexer": "ipython3",
   "version": "3.7.7"
  }
 },
 "nbformat": 4,
 "nbformat_minor": 4
}
