{
 "cells": [
  {
   "cell_type": "code",
   "execution_count": 164,
   "metadata": {},
   "outputs": [],
   "source": [
    "import fileinput\n",
    "import sys\n",
    "import glob \n",
    "import pandas as pd\n",
    "import numpy as np"
   ]
  },
  {
   "cell_type": "markdown",
   "metadata": {},
   "source": [
    "line() or delete()\n",
    "\n",
    "copy()  // copy original\n",
    "\n",
    "copy()  // copy original\n",
    "\n",
    "add()   // add a new line \n",
    "\n",
    "change() // overwrite line  "
   ]
  },
  {
   "cell_type": "code",
   "execution_count": 140,
   "metadata": {},
   "outputs": [
    {
     "name": "stdout",
     "output_type": "stream",
     "text": [
      "test ../original_corpus/eng.testb\n",
      "dev ../original_corpus/eng.testa\n",
      "train ../original_corpus/eng.train\n"
     ]
    },
    {
     "data": {
      "text/html": [
       "<div>\n",
       "<style scoped>\n",
       "    .dataframe tbody tr th:only-of-type {\n",
       "        vertical-align: middle;\n",
       "    }\n",
       "\n",
       "    .dataframe tbody tr th {\n",
       "        vertical-align: top;\n",
       "    }\n",
       "\n",
       "    .dataframe thead th {\n",
       "        text-align: right;\n",
       "    }\n",
       "</style>\n",
       "<table border=\"1\" class=\"dataframe\">\n",
       "  <thead>\n",
       "    <tr style=\"text-align: right;\">\n",
       "      <th></th>\n",
       "      <th>fold</th>\n",
       "      <th>line_no</th>\n",
       "      <th>doc_offset</th>\n",
       "      <th>corpus_span</th>\n",
       "      <th>correct_span</th>\n",
       "      <th>correct_line</th>\n",
       "    </tr>\n",
       "  </thead>\n",
       "  <tbody>\n",
       "    <tr>\n",
       "      <th>0</th>\n",
       "      <td>test</td>\n",
       "      <td>1131</td>\n",
       "      <td>3.0</td>\n",
       "      <td>[21, 37): 'SKIING-WORLD CUP'</td>\n",
       "      <td>[28, 37): 'WORLD CUP'</td>\n",
       "      <td>NaN</td>\n",
       "    </tr>\n",
       "    <tr>\n",
       "      <th>1</th>\n",
       "      <td>test</td>\n",
       "      <td>1131</td>\n",
       "      <td>3.0</td>\n",
       "      <td>[21, 37): 'SKIING-WORLD CUP'</td>\n",
       "      <td>[28,37)'WORLD CUP'</td>\n",
       "      <td>NaN</td>\n",
       "    </tr>\n",
       "    <tr>\n",
       "      <th>2</th>\n",
       "      <td>test</td>\n",
       "      <td>5174</td>\n",
       "      <td>22.0</td>\n",
       "      <td>[19, 23): 'ARAB'</td>\n",
       "      <td>[19, 35): 'ARAB CONTRACTORS'</td>\n",
       "      <td>NaN</td>\n",
       "    </tr>\n",
       "    <tr>\n",
       "      <th>3</th>\n",
       "      <td>test</td>\n",
       "      <td>6545</td>\n",
       "      <td>27.0</td>\n",
       "      <td>[565, 573): 'X-DENVER'</td>\n",
       "      <td>[567, 573): 'DENVER'</td>\n",
       "      <td>NaN</td>\n",
       "    </tr>\n",
       "    <tr>\n",
       "      <th>4</th>\n",
       "      <td>test</td>\n",
       "      <td>-2</td>\n",
       "      <td>27.0</td>\n",
       "      <td>NaN</td>\n",
       "      <td>[567, 573): 'DENVER'</td>\n",
       "      <td>NaN</td>\n",
       "    </tr>\n",
       "  </tbody>\n",
       "</table>\n",
       "</div>"
      ],
      "text/plain": [
       "   fold  line_no  doc_offset                   corpus_span  \\\n",
       "0  test     1131         3.0  [21, 37): 'SKIING-WORLD CUP'   \n",
       "1  test     1131         3.0  [21, 37): 'SKIING-WORLD CUP'   \n",
       "2  test     5174        22.0              [19, 23): 'ARAB'   \n",
       "3  test     6545        27.0        [565, 573): 'X-DENVER'   \n",
       "4  test       -2        27.0                           NaN   \n",
       "\n",
       "                   correct_span correct_line  \n",
       "0         [28, 37): 'WORLD CUP'          NaN  \n",
       "1            [28,37)'WORLD CUP'          NaN  \n",
       "2  [19, 35): 'ARAB CONTRACTORS'          NaN  \n",
       "3          [567, 573): 'DENVER'          NaN  \n",
       "4          [567, 573): 'DENVER'          NaN  "
      ]
     },
     "execution_count": 140,
     "metadata": {},
     "output_type": "execute_result"
    }
   ],
   "source": [
    "\n",
    "filenames = {\"test\":  '../original_corpus/eng.testb',\n",
    "             \"dev\" :  '../original_corpus/eng.testa',\n",
    "             \"train\": '../original_corpus/eng.train'}\n",
    "folds = ['test','dev','train']\n",
    "dtypes_in = {'correct_line':str}\n",
    "\n",
    "log = []\n",
    "log.append(\"line, num_added\")\n",
    "\n",
    "files = {}\n",
    "for fold,filename in filenames.items(): \n",
    "    print(fold,filename)\n",
    "    with open(filename, 'r') as file:\n",
    "        files[fold] = file.readlines()\n",
    "\n",
    "filenames\n",
    "#read dataframe from file\n",
    "corrections = pd.read_csv(\"../corrected_labels/token_edits.csv\",dtype = dtypes_in)\n",
    "corrections = corrections[['fold','line_no','doc_offset','corpus_span','correct_span','correct_line']]\n",
    "corrections.head()\n"
   ]
  },
  {
   "cell_type": "code",
   "execution_count": 141,
   "metadata": {},
   "outputs": [],
   "source": [
    " \n",
    "def print_with_numbering(file, s, e):\n",
    "        for i in range(s,e):\n",
    "            print(i, file[i])\n",
    "        \n",
    "def show_lines(line, file, line_end = None):\n",
    "    line_end = line +2 if (line_end== None) else line_end\n",
    "    print_with_numbering(file,line-1,line_end+1 )\n",
    "\n",
    "def get_corpus_line(line):\n",
    "    return data[line]\n",
    "    \n"
   ]
  },
  {
   "cell_type": "code",
   "execution_count": 142,
   "metadata": {},
   "outputs": [],
   "source": [
    "# run this to reset count\n",
    "curr_row = 0; \n",
    "fold = \"dev\""
   ]
  },
  {
   "cell_type": "code",
   "execution_count": 218,
   "metadata": {},
   "outputs": [
    {
     "name": "stdout",
     "output_type": "stream",
     "text": [
      "['test', 6640, 27.0, \"[889, 900): 'Y-GREEN BAY'\", \"[891, 900): 'GREEN BAY'\", nan]\n",
      "6639 \n",
      "\n",
      "6640 nan\n",
      "6641 BAY NNP I-NP I-MISC\n",
      "\n",
      "6642 10 CD I-NP O\n",
      "\n",
      "['test', 6851, 29.0, \"[25, 44): 'FOOTBALL-OHIO STATE'\", \"[34, 44): 'OHIO STATE'\", nan]\n",
      "6850 AMERICAN NNP I-NP O\n",
      "\n",
      "6851 nan\n",
      "6852 STATE NNP I-NP I-MISC\n",
      "\n",
      "6853 'S POS B-NP O\n",
      "\n",
      "['test', 6851, 29.0, \"[25, 44): 'FOOTBALL-OHIO STATE'\", \"[34,44): 'OHIO STATE'\", nan]\n",
      "6850 AMERICAN NNP I-NP O\n",
      "\n",
      "6851 nan\n",
      "6852 STATE NNP I-NP I-MISC\n",
      "\n",
      "6853 'S POS B-NP O\n",
      "\n",
      "enter correct input for first entry\n"
     ]
    },
    {
     "name": "stdin",
     "output_type": "stream",
     "text": [
      " SKIING NNP I-NP O\\n- : O O\\nWORLD NNP I-NP I-MISC\n"
     ]
    },
    {
     "name": "stdout",
     "output_type": "stream",
     "text": [
      "\n",
      " line gotten: \n",
      "\n",
      "SKIING NNP I-NP O\n",
      "- : O O\n",
      "WORLD NNP I-NP I-MISC\n"
     ]
    }
   ],
   "source": [
    "# for now just display\n",
    "# when this bool is set to true, replace line with given text\n",
    "prompt_for_correct = True;\n",
    "\n",
    "for _,row in (corrections.loc[curr_row:curr_row+2]).iterrows():\n",
    "    print(row.to_list())\n",
    "    show_lines(row.line_no, files[row.fold])\n",
    "        \n",
    "if(prompt_for_correct):\n",
    "    print(\"enter correct input for first entry\")\n",
    "    inp = input()\n",
    "    if(inp == 'delete_entry'):\n",
    "        corrections.drop(index=curr_row,axis = 1);\n",
    "    else: \n",
    "        inp = inp.replace(\"\\\\n\",\"\\n\")\n",
    "        corrections.at[curr_row,'correct_line'] = inp\n",
    "        print(\"\\n line gotten: \\n\")\n",
    "        print(inp)\n",
    "\n",
    "curr_row += 1 "
   ]
  },
  {
   "cell_type": "code",
   "execution_count": 147,
   "metadata": {},
   "outputs": [
    {
     "data": {
      "text/html": [
       "<div>\n",
       "<style scoped>\n",
       "    .dataframe tbody tr th:only-of-type {\n",
       "        vertical-align: middle;\n",
       "    }\n",
       "\n",
       "    .dataframe tbody tr th {\n",
       "        vertical-align: top;\n",
       "    }\n",
       "\n",
       "    .dataframe thead th {\n",
       "        text-align: right;\n",
       "    }\n",
       "</style>\n",
       "<table border=\"1\" class=\"dataframe\">\n",
       "  <thead>\n",
       "    <tr style=\"text-align: right;\">\n",
       "      <th></th>\n",
       "      <th>fold</th>\n",
       "      <th>line_no</th>\n",
       "      <th>doc_offset</th>\n",
       "      <th>corpus_span</th>\n",
       "      <th>correct_span</th>\n",
       "      <th>correct_line</th>\n",
       "    </tr>\n",
       "  </thead>\n",
       "  <tbody>\n",
       "    <tr>\n",
       "      <th>0</th>\n",
       "      <td>test</td>\n",
       "      <td>1131</td>\n",
       "      <td>3.0</td>\n",
       "      <td>[21, 37): 'SKIING-WORLD CUP'</td>\n",
       "      <td>[28, 37): 'WORLD CUP'</td>\n",
       "      <td>SKIING NNP I-NP O\\n- : O O\\nWORLD NNP I-NP I-MISC</td>\n",
       "    </tr>\n",
       "    <tr>\n",
       "      <th>1</th>\n",
       "      <td>test</td>\n",
       "      <td>1131</td>\n",
       "      <td>3.0</td>\n",
       "      <td>[21, 37): 'SKIING-WORLD CUP'</td>\n",
       "      <td>[28,37)'WORLD CUP'</td>\n",
       "      <td>NaN</td>\n",
       "    </tr>\n",
       "    <tr>\n",
       "      <th>2</th>\n",
       "      <td>test</td>\n",
       "      <td>5174</td>\n",
       "      <td>22.0</td>\n",
       "      <td>[19, 23): 'ARAB'</td>\n",
       "      <td>[19, 35): 'ARAB CONTRACTORS'</td>\n",
       "      <td>NaN</td>\n",
       "    </tr>\n",
       "    <tr>\n",
       "      <th>3</th>\n",
       "      <td>test</td>\n",
       "      <td>6545</td>\n",
       "      <td>27.0</td>\n",
       "      <td>[565, 573): 'X-DENVER'</td>\n",
       "      <td>[567, 573): 'DENVER'</td>\n",
       "      <td>X ab O O\\n-: O O\\nDENVER NNP I-NP I-MISC</td>\n",
       "    </tr>\n",
       "    <tr>\n",
       "      <th>4</th>\n",
       "      <td>test</td>\n",
       "      <td>-2</td>\n",
       "      <td>27.0</td>\n",
       "      <td>NaN</td>\n",
       "      <td>[567, 573): 'DENVER'</td>\n",
       "      <td>NaN</td>\n",
       "    </tr>\n",
       "  </tbody>\n",
       "</table>\n",
       "</div>"
      ],
      "text/plain": [
       "   fold  line_no  doc_offset                   corpus_span  \\\n",
       "0  test     1131         3.0  [21, 37): 'SKIING-WORLD CUP'   \n",
       "1  test     1131         3.0  [21, 37): 'SKIING-WORLD CUP'   \n",
       "2  test     5174        22.0              [19, 23): 'ARAB'   \n",
       "3  test     6545        27.0        [565, 573): 'X-DENVER'   \n",
       "4  test       -2        27.0                           NaN   \n",
       "\n",
       "                   correct_span  \\\n",
       "0         [28, 37): 'WORLD CUP'   \n",
       "1            [28,37)'WORLD CUP'   \n",
       "2  [19, 35): 'ARAB CONTRACTORS'   \n",
       "3          [567, 573): 'DENVER'   \n",
       "4          [567, 573): 'DENVER'   \n",
       "\n",
       "                                        correct_line  \n",
       "0  SKIING NNP I-NP O\\n- : O O\\nWORLD NNP I-NP I-MISC  \n",
       "1                                                NaN  \n",
       "2                                                NaN  \n",
       "3           X ab O O\\n-: O O\\nDENVER NNP I-NP I-MISC  \n",
       "4                                                NaN  "
      ]
     },
     "execution_count": 147,
     "metadata": {},
     "output_type": "execute_result"
    }
   ],
   "source": [
    "corrections.head()"
   ]
  },
  {
   "cell_type": "code",
   "execution_count": 216,
   "metadata": {},
   "outputs": [
    {
     "name": "stdout",
     "output_type": "stream",
     "text": [
      "modifying row 1131 of fold test to 'SKIING NNP I-NP O\\n- : O O\\nWORLD NNP I-NP I-MISC'\n",
      "modifying row 6545 of fold test to 'X ab O O\\n-: O O\\nDENVER NNP I-NP I-MISC'\n"
     ]
    }
   ],
   "source": [
    "#updating script \n",
    "\n",
    "for _,row in corrections.iterrows():\n",
    "    if (len(str(row.correct_line)) >3 ):\n",
    "        files[row.fold][row.line_no] = row.correct_line\n",
    "        print(f\"modifying row {row.line_no} of fold {row.fold} to '{row.correct_line}'\" )"
   ]
  },
  {
   "cell_type": "code",
   "execution_count": null,
   "metadata": {},
   "outputs": [],
   "source": []
  },
  {
   "cell_type": "code",
   "execution_count": 207,
   "metadata": {},
   "outputs": [
    {
     "name": "stdout",
     "output_type": "stream",
     "text": [
      "done\n"
     ]
    }
   ],
   "source": [
    "new_filenames = {\"test\":  '../corrected_corpus/eng.testb',\n",
    "             \"dev\" :  '../corrected_corpus/eng.testa',\n",
    "             \"train\": '../corrected_corpus/eng.train'}\n",
    "for fold,file_n in new_filenames.items(): \n",
    "    with open(file_n,'w') as write_file:\n",
    "        for line in files[fold]:\n",
    "            write_file.writelines(str(line))\n",
    "print(\"done\")"
   ]
  },
  {
   "cell_type": "code",
   "execution_count": null,
   "metadata": {},
   "outputs": [],
   "source": []
  }
 ],
 "metadata": {
  "kernelspec": {
   "display_name": "Python 3",
   "language": "python",
   "name": "python3"
  },
  "language_info": {
   "codemirror_mode": {
    "name": "ipython",
    "version": 3
   },
   "file_extension": ".py",
   "mimetype": "text/x-python",
   "name": "python",
   "nbconvert_exporter": "python",
   "pygments_lexer": "ipython3",
   "version": "3.7.4"
  }
 },
 "nbformat": 4,
 "nbformat_minor": 4
}
