{
 "cells": [
  {
   "cell_type": "code",
   "execution_count": 1,
   "metadata": {},
   "outputs": [],
   "source": [
    "import os\n",
    "import pandas as pd\n",
    "import numpy as np\n",
    "from pandas import DataFrame as df"
   ]
  },
  {
   "cell_type": "code",
   "execution_count": 2,
   "metadata": {},
   "outputs": [],
   "source": [
    "groups = {\n",
    "    \"A\" : ['CoNLL_2_in_gold.csv',       'CoNLL_2_not_in_gold.csv'],\n",
    "    \"B\" : ['CoNLL_3_in_gold.csv',       'CoNLL_3_not_in_gold.csv'],\n",
    "    \"C\" : ['CoNLL_3_train_in_gold.csv', 'CoNLL_3_train_not_in_gold.csv'],\n",
    "    \"D\" : ['CoNLL_4_in_gold.csv',       'CoNLL_4_not_in_gold.csv'],\n",
    "    \"E\" : ['CoNLL_4_train_in_gold.csv', 'CoNLL_4_train_not_in_gold.csv']\n",
    "}"
   ]
  },
  {
   "cell_type": "code",
   "execution_count": 3,
   "metadata": {},
   "outputs": [],
   "source": [
    "data_dir = os.path.join(\"..\", \"corrected_labels\")\n",
    "\n",
    "sets = ['model_outputs/', 'human_labels/', 'human_labels_audited/']\n",
    "sets = [os.path.join(data_dir, d) for d in sets]"
   ]
  },
  {
   "cell_type": "code",
   "execution_count": 4,
   "metadata": {},
   "outputs": [],
   "source": [
    "def combine_groups(group, current_set):\n",
    "    \"\"\"\n",
    "    Takes in 2 files (_in_gold and _not_in_gold) from the same group and combines them\n",
    "    Removes duplicates, and for human annotated files, filters out entries that had \"None\" as error type\n",
    "    Returns a dataframe with 3 columns: num_models, span, entity_type\n",
    "    \"\"\"\n",
    "    print(\"Combining files {} from folder {}\".format(group, current_set))\n",
    "    if current_set == 'model_outputs/':\n",
    "        my_df = pd.read_csv(current_set+group[0], usecols=['num_models', 'corpus_span', 'corpus_ent_type'], encoding='latin-1')\n",
    "        my_df_2 = pd.read_csv(current_set+group[1], usecols=['num_models', 'model_span', 'model_ent_type'], encoding='latin-1')\n",
    "        # Adjust the numbers in `_not_in_gold.csv` files to match those in `_in_gold.csv` files\n",
    "        #my_df_2['num_models'] = 17 - my_df_2['num_models']\n",
    "        my_df = my_df.rename(columns={\"corpus_span\": \"span\", \"corpus_ent_type\": \"ent_type\"})\n",
    "        my_df_2 = my_df_2.rename(columns={\"model_span\": \"span\", \"model_ent_type\": \"ent_type\"})\n",
    "        combined_df = pd.concat([my_df, my_df_2])\n",
    "        combined_df = combined_df.drop_duplicates(subset=[\"span\", \"ent_type\"])\n",
    "    else:\n",
    "        my_df = pd.read_csv(current_set+group[0], usecols=['num_models', 'corpus_span', 'corpus_ent_type', 'error_type'], encoding='latin-1')\n",
    "        my_df_2 = pd.read_csv(current_set+group[1], usecols=['num_models', 'model_span', 'model_ent_type', 'error_type'], encoding='latin-1')\n",
    "        # Adjust the numbers in `_not_in_gold.csv` files to match those in `_in_gold.csv` files\n",
    "        #my_df_2['num_models'] = 17 - my_df_2['num_models']\n",
    "        my_df = my_df.rename(columns={\"corpus_span\": \"span\", \"corpus_ent_type\": \"ent_type\"})\n",
    "        my_df_2 = my_df_2.rename(columns={\"model_span\": \"span\", \"model_ent_type\": \"ent_type\"})\n",
    "        combined_df = pd.concat([my_df, my_df_2])\n",
    "        combined_df = combined_df.loc[combined_df['error_type'].isin(['Wrong','Token','Sentence','Span','Tag','Both', 'Missing'])]\n",
    "        combined_df = combined_df.drop_duplicates(subset=[\"span\", \"ent_type\"])\n",
    "        combined_df = combined_df.drop('error_type', axis=1)\n",
    "    combined_df = combined_df.dropna()\n",
    "    \n",
    "    return combined_df"
   ]
  },
  {
   "cell_type": "code",
   "execution_count": 5,
   "metadata": {},
   "outputs": [
    {
     "name": "stdout",
     "output_type": "stream",
     "text": [
      "Combining files ['CoNLL_2_in_gold.csv', 'CoNLL_2_not_in_gold.csv'] from folder ../corrected_labels/model_outputs/\n",
      "Combining files ['CoNLL_3_in_gold.csv', 'CoNLL_3_not_in_gold.csv'] from folder ../corrected_labels/model_outputs/\n",
      "Combining files ['CoNLL_3_train_in_gold.csv', 'CoNLL_3_train_not_in_gold.csv'] from folder ../corrected_labels/model_outputs/\n",
      "Combining files ['CoNLL_4_in_gold.csv', 'CoNLL_4_not_in_gold.csv'] from folder ../corrected_labels/model_outputs/\n",
      "Combining files ['CoNLL_4_train_in_gold.csv', 'CoNLL_4_train_not_in_gold.csv'] from folder ../corrected_labels/model_outputs/\n",
      "Combining files ['CoNLL_2_in_gold.csv', 'CoNLL_2_not_in_gold.csv'] from folder ../corrected_labels/human_labels/\n",
      "Combining files ['CoNLL_3_in_gold.csv', 'CoNLL_3_not_in_gold.csv'] from folder ../corrected_labels/human_labels/\n",
      "Combining files ['CoNLL_3_train_in_gold.csv', 'CoNLL_3_train_not_in_gold.csv'] from folder ../corrected_labels/human_labels/\n",
      "Combining files ['CoNLL_4_in_gold.csv', 'CoNLL_4_not_in_gold.csv'] from folder ../corrected_labels/human_labels/\n",
      "Combining files ['CoNLL_4_train_in_gold.csv', 'CoNLL_4_train_not_in_gold.csv'] from folder ../corrected_labels/human_labels/\n",
      "Combining files ['CoNLL_2_in_gold.csv', 'CoNLL_2_not_in_gold.csv'] from folder ../corrected_labels/human_labels_audited/\n",
      "Combining files ['CoNLL_3_in_gold.csv', 'CoNLL_3_not_in_gold.csv'] from folder ../corrected_labels/human_labels_audited/\n",
      "Combining files ['CoNLL_3_train_in_gold.csv', 'CoNLL_3_train_not_in_gold.csv'] from folder ../corrected_labels/human_labels_audited/\n",
      "Combining files ['CoNLL_4_in_gold.csv', 'CoNLL_4_not_in_gold.csv'] from folder ../corrected_labels/human_labels_audited/\n",
      "Combining files ['CoNLL_4_train_in_gold.csv', 'CoNLL_4_train_not_in_gold.csv'] from folder ../corrected_labels/human_labels_audited/\n"
     ]
    }
   ],
   "source": [
    "# Generate the 5 groups (A, B, C, D, E) for each of our 3 sets (model_outputs, human_annotator, human_auditor)\n",
    "# final_set[group] is a list containing the 5 groups [A,B,C,D,E] for each set\n",
    "final_set = {\n",
    "    sets[0]: [],\n",
    "    sets[1]: [],\n",
    "    sets[2]: []\n",
    "}\n",
    "for s in sets:\n",
    "    for g in groups:\n",
    "        final_set[s].append(combine_groups(groups[g], s))"
   ]
  },
  {
   "cell_type": "code",
   "execution_count": 6,
   "metadata": {},
   "outputs": [],
   "source": [
    "def pairwise_compare(df1, df2):\n",
    "    \"\"\"\n",
    "    This function compares pairwise the different dataframes we generated above\n",
    "    We are interested in the number of overlapping (span, entity) pairs between the files\n",
    "    Additionally we can also see how many models agreed with that pair (on average)\n",
    "    Returns:\n",
    "        - avg_overlap -> [0,1] indicates the % of entries overlapping between the 2 files on avg\n",
    "        - mean_num_models -> the mean number of models which produced the outputs in the overlap\n",
    "        - mean_num_models_diff -> the mean number of models by which the 2 files differ for the same row/record\n",
    "    \"\"\"\n",
    "    df_joined = pd.merge(df1, df2, on=['span', 'ent_type'])\n",
    "    # the \"num_models_diff\" field indicates what was the difference in the number of models which agreed to a certain (span, entity) pair\n",
    "    df_joined['num_models_diff'] = abs(df_joined['num_models_x'] - df_joined['num_models_y'])\n",
    "    #df_joined = df_joined.drop_duplicates(subset=[\"span\", \"ent_type\"])\n",
    "    combined_df = pd.concat([df1, df2])\n",
    "    combined_df = combined_df.drop_duplicates(subset=[\"span\", \"ent_type\"])\n",
    "    print(combined_df.shape[0])\n",
    "    jackaard_score = df_joined.shape[0]/(df1.shape[0]+df2.shape[0]-df_joined.shape[0])#combined_df.shape[0]\n",
    "    mean_num_models = 0.5*(df_joined['num_models_x'].mean() + df_joined['num_models_y'].mean())\n",
    "    mean_num_models_diff = df_joined['num_models_diff'].mean()\n",
    "    \n",
    "    return jackaard_score\n",
    "    "
   ]
  },
  {
   "cell_type": "code",
   "execution_count": 7,
   "metadata": {},
   "outputs": [
    {
     "name": "stdout",
     "output_type": "stream",
     "text": [
      "535\n"
     ]
    },
    {
     "data": {
      "text/plain": [
       "0.7551401869158878"
      ]
     },
     "execution_count": 7,
     "metadata": {},
     "output_type": "execute_result"
    }
   ],
   "source": [
    "pairwise_compare(final_set[sets[2]][2], final_set[sets[2]][4])"
   ]
  },
  {
   "cell_type": "code",
   "execution_count": 8,
   "metadata": {},
   "outputs": [
    {
     "name": "stdout",
     "output_type": "stream",
     "text": [
      "0\n"
     ]
    },
    {
     "ename": "ZeroDivisionError",
     "evalue": "division by zero",
     "output_type": "error",
     "traceback": [
      "\u001b[0;31m---------------------------------------------------------------------------\u001b[0m",
      "\u001b[0;31mZeroDivisionError\u001b[0m                         Traceback (most recent call last)",
      "\u001b[0;32m<ipython-input-8-5f55e430887e>\u001b[0m in \u001b[0;36m<module>\u001b[0;34m\u001b[0m\n\u001b[1;32m      6\u001b[0m \u001b[0;34m\u001b[0m\u001b[0m\n\u001b[1;32m      7\u001b[0m \u001b[0;32mfor\u001b[0m \u001b[0ms\u001b[0m \u001b[0;32min\u001b[0m \u001b[0mfinal_set\u001b[0m\u001b[0;34m:\u001b[0m\u001b[0;34m\u001b[0m\u001b[0;34m\u001b[0m\u001b[0m\n\u001b[0;32m----> 8\u001b[0;31m     \u001b[0mresults\u001b[0m\u001b[0;34m[\u001b[0m\u001b[0ms\u001b[0m\u001b[0;34m]\u001b[0m\u001b[0;34m.\u001b[0m\u001b[0mappend\u001b[0m\u001b[0;34m(\u001b[0m\u001b[0mpairwise_compare\u001b[0m\u001b[0;34m(\u001b[0m\u001b[0mfinal_set\u001b[0m\u001b[0;34m[\u001b[0m\u001b[0ms\u001b[0m\u001b[0;34m]\u001b[0m\u001b[0;34m[\u001b[0m\u001b[0;36m0\u001b[0m\u001b[0;34m]\u001b[0m\u001b[0;34m,\u001b[0m \u001b[0mfinal_set\u001b[0m\u001b[0;34m[\u001b[0m\u001b[0ms\u001b[0m\u001b[0;34m]\u001b[0m\u001b[0;34m[\u001b[0m\u001b[0;36m1\u001b[0m\u001b[0;34m]\u001b[0m\u001b[0;34m)\u001b[0m\u001b[0;34m)\u001b[0m\u001b[0;34m\u001b[0m\u001b[0;34m\u001b[0m\u001b[0m\n\u001b[0m\u001b[1;32m      9\u001b[0m     \u001b[0mresults\u001b[0m\u001b[0;34m[\u001b[0m\u001b[0ms\u001b[0m\u001b[0;34m]\u001b[0m\u001b[0;34m.\u001b[0m\u001b[0mappend\u001b[0m\u001b[0;34m(\u001b[0m\u001b[0mpairwise_compare\u001b[0m\u001b[0;34m(\u001b[0m\u001b[0mfinal_set\u001b[0m\u001b[0;34m[\u001b[0m\u001b[0ms\u001b[0m\u001b[0;34m]\u001b[0m\u001b[0;34m[\u001b[0m\u001b[0;36m0\u001b[0m\u001b[0;34m]\u001b[0m\u001b[0;34m,\u001b[0m \u001b[0mfinal_set\u001b[0m\u001b[0;34m[\u001b[0m\u001b[0ms\u001b[0m\u001b[0;34m]\u001b[0m\u001b[0;34m[\u001b[0m\u001b[0;36m3\u001b[0m\u001b[0;34m]\u001b[0m\u001b[0;34m)\u001b[0m\u001b[0;34m)\u001b[0m\u001b[0;34m\u001b[0m\u001b[0;34m\u001b[0m\u001b[0m\n\u001b[1;32m     10\u001b[0m     \u001b[0mresults\u001b[0m\u001b[0;34m[\u001b[0m\u001b[0ms\u001b[0m\u001b[0;34m]\u001b[0m\u001b[0;34m.\u001b[0m\u001b[0mappend\u001b[0m\u001b[0;34m(\u001b[0m\u001b[0mpairwise_compare\u001b[0m\u001b[0;34m(\u001b[0m\u001b[0mfinal_set\u001b[0m\u001b[0;34m[\u001b[0m\u001b[0ms\u001b[0m\u001b[0;34m]\u001b[0m\u001b[0;34m[\u001b[0m\u001b[0;36m1\u001b[0m\u001b[0;34m]\u001b[0m\u001b[0;34m,\u001b[0m \u001b[0mfinal_set\u001b[0m\u001b[0;34m[\u001b[0m\u001b[0ms\u001b[0m\u001b[0;34m]\u001b[0m\u001b[0;34m[\u001b[0m\u001b[0;36m3\u001b[0m\u001b[0;34m]\u001b[0m\u001b[0;34m)\u001b[0m\u001b[0;34m)\u001b[0m\u001b[0;34m\u001b[0m\u001b[0;34m\u001b[0m\u001b[0m\n",
      "\u001b[0;32m<ipython-input-6-d52a5c9461e4>\u001b[0m in \u001b[0;36mpairwise_compare\u001b[0;34m(df1, df2)\u001b[0m\n\u001b[1;32m     16\u001b[0m     \u001b[0mcombined_df\u001b[0m \u001b[0;34m=\u001b[0m \u001b[0mcombined_df\u001b[0m\u001b[0;34m.\u001b[0m\u001b[0mdrop_duplicates\u001b[0m\u001b[0;34m(\u001b[0m\u001b[0msubset\u001b[0m\u001b[0;34m=\u001b[0m\u001b[0;34m[\u001b[0m\u001b[0;34m\"span\"\u001b[0m\u001b[0;34m,\u001b[0m \u001b[0;34m\"ent_type\"\u001b[0m\u001b[0;34m]\u001b[0m\u001b[0;34m)\u001b[0m\u001b[0;34m\u001b[0m\u001b[0;34m\u001b[0m\u001b[0m\n\u001b[1;32m     17\u001b[0m     \u001b[0mprint\u001b[0m\u001b[0;34m(\u001b[0m\u001b[0mcombined_df\u001b[0m\u001b[0;34m.\u001b[0m\u001b[0mshape\u001b[0m\u001b[0;34m[\u001b[0m\u001b[0;36m0\u001b[0m\u001b[0;34m]\u001b[0m\u001b[0;34m)\u001b[0m\u001b[0;34m\u001b[0m\u001b[0;34m\u001b[0m\u001b[0m\n\u001b[0;32m---> 18\u001b[0;31m     \u001b[0mjackaard_score\u001b[0m \u001b[0;34m=\u001b[0m \u001b[0mdf_joined\u001b[0m\u001b[0;34m.\u001b[0m\u001b[0mshape\u001b[0m\u001b[0;34m[\u001b[0m\u001b[0;36m0\u001b[0m\u001b[0;34m]\u001b[0m\u001b[0;34m/\u001b[0m\u001b[0;34m(\u001b[0m\u001b[0mdf1\u001b[0m\u001b[0;34m.\u001b[0m\u001b[0mshape\u001b[0m\u001b[0;34m[\u001b[0m\u001b[0;36m0\u001b[0m\u001b[0;34m]\u001b[0m\u001b[0;34m+\u001b[0m\u001b[0mdf2\u001b[0m\u001b[0;34m.\u001b[0m\u001b[0mshape\u001b[0m\u001b[0;34m[\u001b[0m\u001b[0;36m0\u001b[0m\u001b[0;34m]\u001b[0m\u001b[0;34m-\u001b[0m\u001b[0mdf_joined\u001b[0m\u001b[0;34m.\u001b[0m\u001b[0mshape\u001b[0m\u001b[0;34m[\u001b[0m\u001b[0;36m0\u001b[0m\u001b[0;34m]\u001b[0m\u001b[0;34m)\u001b[0m\u001b[0;31m#combined_df.shape[0]\u001b[0m\u001b[0;34m\u001b[0m\u001b[0;34m\u001b[0m\u001b[0m\n\u001b[0m\u001b[1;32m     19\u001b[0m     \u001b[0mmean_num_models\u001b[0m \u001b[0;34m=\u001b[0m \u001b[0;36m0.5\u001b[0m\u001b[0;34m*\u001b[0m\u001b[0;34m(\u001b[0m\u001b[0mdf_joined\u001b[0m\u001b[0;34m[\u001b[0m\u001b[0;34m'num_models_x'\u001b[0m\u001b[0;34m]\u001b[0m\u001b[0;34m.\u001b[0m\u001b[0mmean\u001b[0m\u001b[0;34m(\u001b[0m\u001b[0;34m)\u001b[0m \u001b[0;34m+\u001b[0m \u001b[0mdf_joined\u001b[0m\u001b[0;34m[\u001b[0m\u001b[0;34m'num_models_y'\u001b[0m\u001b[0;34m]\u001b[0m\u001b[0;34m.\u001b[0m\u001b[0mmean\u001b[0m\u001b[0;34m(\u001b[0m\u001b[0;34m)\u001b[0m\u001b[0;34m)\u001b[0m\u001b[0;34m\u001b[0m\u001b[0;34m\u001b[0m\u001b[0m\n\u001b[1;32m     20\u001b[0m     \u001b[0mmean_num_models_diff\u001b[0m \u001b[0;34m=\u001b[0m \u001b[0mdf_joined\u001b[0m\u001b[0;34m[\u001b[0m\u001b[0;34m'num_models_diff'\u001b[0m\u001b[0;34m]\u001b[0m\u001b[0;34m.\u001b[0m\u001b[0mmean\u001b[0m\u001b[0;34m(\u001b[0m\u001b[0;34m)\u001b[0m\u001b[0;34m\u001b[0m\u001b[0;34m\u001b[0m\u001b[0m\n",
      "\u001b[0;31mZeroDivisionError\u001b[0m: division by zero"
     ]
    }
   ],
   "source": [
    "results = {\n",
    "    sets[0] : [], \n",
    "    sets[1] : [],\n",
    "    sets[2] : []\n",
    "}\n",
    "\n",
    "for s in final_set:\n",
    "    results[s].append(pairwise_compare(final_set[s][0], final_set[s][1]))\n",
    "    results[s].append(pairwise_compare(final_set[s][0], final_set[s][3]))\n",
    "    results[s].append(pairwise_compare(final_set[s][1], final_set[s][3]))\n",
    "    results[s].append(pairwise_compare(final_set[s][2], final_set[s][4]))"
   ]
  },
  {
   "cell_type": "code",
   "execution_count": null,
   "metadata": {},
   "outputs": [],
   "source": [
    "results"
   ]
  },
  {
   "cell_type": "code",
   "execution_count": null,
   "metadata": {},
   "outputs": [],
   "source": []
  },
  {
   "cell_type": "code",
   "execution_count": null,
   "metadata": {},
   "outputs": [],
   "source": []
  }
 ],
 "metadata": {
  "kernelspec": {
   "display_name": "Python 3",
   "language": "python",
   "name": "python3"
  },
  "language_info": {
   "codemirror_mode": {
    "name": "ipython",
    "version": 3
   },
   "file_extension": ".py",
   "mimetype": "text/x-python",
   "name": "python",
   "nbconvert_exporter": "python",
   "pygments_lexer": "ipython3",
   "version": "3.8.6"
  }
 },
 "nbformat": 4,
 "nbformat_minor": 4
}
