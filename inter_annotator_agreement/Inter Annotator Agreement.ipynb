{
 "cells": [
  {
   "cell_type": "code",
   "execution_count": 2,
   "metadata": {},
   "outputs": [],
   "source": [
    "import pandas as pd\n",
    "import numpy as np\n",
    "from pandas import DataFrame as df"
   ]
  },
  {
   "cell_type": "code",
   "execution_count": 13,
   "metadata": {},
   "outputs": [],
   "source": [
    "groups = {\n",
    "    \"A\" : ['conll_2_in_gold.csv', 'conll_2_not_in_gold.csv'],\n",
    "    \"B\" : ['conll_3_in_gold.csv', 'conll_3_not_in_gold.csv'],\n",
    "    \"C\" : ['conll_3_train_in_gold.csv', 'conll_3_train_not_in_gold.csv'],\n",
    "    \"D\" : ['conll_4_in_gold.csv', 'conll_4_not_in_gold.csv'],\n",
    "    \"E\" : ['conll_4_train_in_gold.csv', 'conll_4_train_not_in_gold.csv']\n",
    "}"
   ]
  },
  {
   "cell_type": "code",
   "execution_count": 102,
   "metadata": {},
   "outputs": [],
   "source": [
    "sets = ['model_outputs/', 'human_labels/', 'human_labels_auditted/']"
   ]
  },
  {
   "cell_type": "code",
   "execution_count": 140,
   "metadata": {},
   "outputs": [],
   "source": [
    "def combine_groups(group, current_set):\n",
    "    \"\"\"\n",
    "    Takes in 2 files (_in_gold and _not_in_gold) from the same group and combines them\n",
    "    Removes duplicates, and for human annotated files, filters out entries that had \"None\" as error type\n",
    "    Returns a dataframe with 3 columns: num_models, span, entity_type\n",
    "    \"\"\"\n",
    "    print(\"Combining files {} from folder {}\".format(group, current_set))\n",
    "    if current_set == 'model_outputs/':\n",
    "        my_df = pd.read_csv(current_set+group[0], usecols=['num_models', 'corpus_span', 'corpus_ent_type'], encoding='latin-1')\n",
    "        my_df_2 = pd.read_csv(current_set+group[1], usecols=['num_models', 'model_span', 'model_ent_type'], encoding='latin-1')\n",
    "        # Adjust the numbers in `_not_in_gold.csv` files to match those in `_in_gold.csv` files\n",
    "        my_df_2['num_models'] = 17 - my_df_2['num_models']\n",
    "        my_df = my_df.rename(columns={\"corpus_span\": \"span\", \"corpus_ent_type\": \"ent_type\"})\n",
    "        my_df_2 = my_df_2.rename(columns={\"model_span\": \"span\", \"model_ent_type\": \"ent_type\"})\n",
    "        combined_df = pd.concat([my_df, my_df_2])\n",
    "        combined_df = combined_df.drop_duplicates(subset=[\"span\", \"ent_type\"])\n",
    "    else:\n",
    "        my_df = pd.read_csv(current_set+group[0], usecols=['num_models', 'corpus_span', 'corpus_ent_type', 'error_type'], encoding='latin-1')\n",
    "        my_df_2 = pd.read_csv(current_set+group[1], usecols=['num_models', 'model_span', 'model_ent_type', 'error_type'], encoding='latin-1')\n",
    "        # Adjust the numbers in `_not_in_gold.csv` files to match those in `_in_gold.csv` files\n",
    "        my_df_2['num_models'] = 17 - my_df_2['num_models']\n",
    "        my_df = my_df.rename(columns={\"corpus_span\": \"span\", \"corpus_ent_type\": \"ent_type\"})\n",
    "        my_df_2 = my_df_2.rename(columns={\"model_span\": \"span\", \"model_ent_type\": \"ent_type\"})\n",
    "        combined_df = pd.concat([my_df, my_df_2])\n",
    "        combined_df = combined_df.drop_duplicates(subset=[\"span\", \"ent_type\"])\n",
    "        combined_df = combined_df.loc[combined_df['error_type'].isin(['Wrong','Token','Sentence','Span','Tag','Both'])]\n",
    "        combined_df = combined_df.drop('error_type', axis=1)\n",
    "    \n",
    "    return combined_df"
   ]
  },
  {
   "cell_type": "code",
   "execution_count": 130,
   "metadata": {},
   "outputs": [
    {
     "name": "stdout",
     "output_type": "stream",
     "text": [
      "Combining files ['conll_2_in_gold.csv', 'conll_2_not_in_gold.csv'] from folder model_outputs/\n",
      "Combining files ['conll_3_in_gold.csv', 'conll_3_not_in_gold.csv'] from folder model_outputs/\n",
      "Combining files ['conll_3_train_in_gold.csv', 'conll_3_train_not_in_gold.csv'] from folder model_outputs/\n",
      "Combining files ['conll_4_in_gold.csv', 'conll_4_not_in_gold.csv'] from folder model_outputs/\n",
      "Combining files ['conll_4_train_in_gold.csv', 'conll_4_train_not_in_gold.csv'] from folder model_outputs/\n",
      "Combining files ['conll_2_in_gold.csv', 'conll_2_not_in_gold.csv'] from folder human_labels/\n",
      "Combining files ['conll_3_in_gold.csv', 'conll_3_not_in_gold.csv'] from folder human_labels/\n",
      "Combining files ['conll_3_train_in_gold.csv', 'conll_3_train_not_in_gold.csv'] from folder human_labels/\n",
      "Combining files ['conll_4_in_gold.csv', 'conll_4_not_in_gold.csv'] from folder human_labels/\n",
      "Combining files ['conll_4_train_in_gold.csv', 'conll_4_train_not_in_gold.csv'] from folder human_labels/\n",
      "Combining files ['conll_2_in_gold.csv', 'conll_2_not_in_gold.csv'] from folder human_labels_auditted/\n",
      "Combining files ['conll_3_in_gold.csv', 'conll_3_not_in_gold.csv'] from folder human_labels_auditted/\n",
      "Combining files ['conll_3_train_in_gold.csv', 'conll_3_train_not_in_gold.csv'] from folder human_labels_auditted/\n",
      "Combining files ['conll_4_in_gold.csv', 'conll_4_not_in_gold.csv'] from folder human_labels_auditted/\n",
      "Combining files ['conll_4_train_in_gold.csv', 'conll_4_train_not_in_gold.csv'] from folder human_labels_auditted/\n"
     ]
    }
   ],
   "source": [
    "# Generate the 5 groups (A, B, C, D, E) for each of our 3 sets (model_outputs, human_annotator, human_auditor)\n",
    "# final_set[group] is a list containing the 5 groups [A,B,C,D,E] for each set\n",
    "final_set = {\n",
    "    sets[0]: [],\n",
    "    sets[1]: [],\n",
    "    sets[2]: []\n",
    "}\n",
    "for s in sets:\n",
    "    for g in groups:\n",
    "        final_set[s].append(combine_groups(groups[g], s))"
   ]
  },
  {
   "cell_type": "code",
   "execution_count": 161,
   "metadata": {},
   "outputs": [],
   "source": [
    "def pairwise_compare(df1, df2):\n",
    "    \"\"\"\n",
    "    This function compares pairwise the different dataframes we generated above\n",
    "    We are interested in the number of overlapping (span, entity) pairs between the files\n",
    "    Additionally we can also see how many models agreed with that pair (on average)\n",
    "    Returns:\n",
    "        - avg_overlap -> [0,1] indicates the % of entries overlapping between the 2 files on avg\n",
    "        - mean_num_models -> the mean number of models which produced the outputs in the overlap\n",
    "        - mean_num_models_diff -> the mean number of models by which the 2 files differ for the same row/record\n",
    "    \"\"\"\n",
    "    df_joined = pd.merge(df1, df2, on=['span', 'ent_type'])\n",
    "    # the \"num_models_diff\" field indicates what was the difference in the number of models which agreed to a certain (span, entity) pair\n",
    "    df_joined['num_models_diff'] = abs(df_joined['num_models_x'] - df_joined['num_models_y'])\n",
    "    avg_overlap = 0.5*((df_joined.shape[0]/df1.shape[0]) + (df_joined.shape[0]/df2.shape[0]))\n",
    "    mean_num_models = 0.5*(df_joined['num_models_x'].mean() + df_joined['num_models_y'].mean())\n",
    "    mean_num_models_diff = df_joined['num_models_diff'].mean()\n",
    "    \n",
    "    return avg_overlap, mean_num_models, mean_num_models_diff\n",
    "    "
   ]
  },
  {
   "cell_type": "code",
   "execution_count": 162,
   "metadata": {},
   "outputs": [
    {
     "data": {
      "text/plain": [
       "(0.6999704892137227, 13.899929912000623, 3.1595670119149597)"
      ]
     },
     "execution_count": 162,
     "metadata": {},
     "output_type": "execute_result"
    }
   ],
   "source": [
    "pairwise_compare(final_set[sets[0]][0], final_set[sets[0]][1])"
   ]
  },
  {
   "cell_type": "code",
   "execution_count": 168,
   "metadata": {},
   "outputs": [],
   "source": [
    "results = {\n",
    "    sets[0] : [], \n",
    "    sets[1] : [],\n",
    "    sets[2] : []\n",
    "}\n",
    "\n",
    "for s in final_set:\n",
    "    results[s].append(pairwise_compare(final_set[s][0], final_set[s][1]))\n",
    "    results[s].append(pairwise_compare(final_set[s][0], final_set[s][3]))\n",
    "    results[s].append(pairwise_compare(final_set[s][1], final_set[s][3]))\n",
    "    results[s].append(pairwise_compare(final_set[s][2], final_set[s][4]))"
   ]
  },
  {
   "cell_type": "code",
   "execution_count": 169,
   "metadata": {},
   "outputs": [
    {
     "data": {
      "text/plain": [
       "{'model_outputs/': [(0.6999704892137227,\n",
       "   13.899929912000623,\n",
       "   3.1595670119149597),\n",
       "  (0.7030270777972292, 13.89784402241594, 3.178782689912827),\n",
       "  (0.9023161429705182, 14.066916867299248, 0.747061322758816),\n",
       "  (0.9310547283066118, 15.410332494890742, 0.5822590787612011)],\n",
       " 'human_labels/': [(0.47276033289041186, 1.4213554987212276, 2.45985401459854),\n",
       "  (0.43419509965622083, 1.5004064214590531, 2.267175572519084),\n",
       "  (0.6857073471122406, 0.534855527638191, 0.4811083123425693),\n",
       "  (0.8009103088810174, 0.6786992516539532, 0.5516372795969773)],\n",
       " 'human_labels_auditted/': [(0.47323063450362235,\n",
       "   1.426935737798769,\n",
       "   2.4705882352941178),\n",
       "  (0.43111715143578955, 1.4782776747062463, 2.246153846153846),\n",
       "  (0.7184716389661088, 0.5469553963193282, 0.4847715736040609),\n",
       "  (0.7948721802251311, 0.6578255083408127, 0.5329949238578681)]}"
      ]
     },
     "execution_count": 169,
     "metadata": {},
     "output_type": "execute_result"
    }
   ],
   "source": [
    "results"
   ]
  },
  {
   "cell_type": "code",
   "execution_count": null,
   "metadata": {},
   "outputs": [],
   "source": []
  },
  {
   "cell_type": "code",
   "execution_count": null,
   "metadata": {},
   "outputs": [],
   "source": []
  }
 ],
 "metadata": {
  "kernelspec": {
   "display_name": "Python 3",
   "language": "python",
   "name": "python3"
  },
  "language_info": {
   "codemirror_mode": {
    "name": "ipython",
    "version": 3
   },
   "file_extension": ".py",
   "mimetype": "text/x-python",
   "name": "python",
   "nbconvert_exporter": "python",
   "pygments_lexer": "ipython3",
   "version": "3.7.1"
  }
 },
 "nbformat": 4,
 "nbformat_minor": 4
}
